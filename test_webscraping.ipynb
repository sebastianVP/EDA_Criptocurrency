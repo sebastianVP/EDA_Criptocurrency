{
 "cells": [
  {
   "cell_type": "markdown",
   "id": "4492c13b",
   "metadata": {},
   "source": [
    "# WebScraping - Working with BeautifulSoup\n",
    "\n",
    "## **Developer**:\n",
    "\n",
    "* Alexander Valdez Portocarrero.\n",
    "* Ingeniero Electronico\n"
   ]
  },
  {
   "cell_type": "code",
   "execution_count": 5,
   "id": "63019b24",
   "metadata": {},
   "outputs": [],
   "source": [
    "from bs4 import BeautifulSoup\n",
    "import requests\n",
    "import pandas as pd\n",
    "import json\n",
    "import time"
   ]
  },
  {
   "cell_type": "markdown",
   "id": "4fd9c41a",
   "metadata": {},
   "source": [
    "Pagina de descarga: [coinmarketcap](https://coinmarketcap.com/)"
   ]
  },
  {
   "cell_type": "code",
   "execution_count": 38,
   "id": "107498c2",
   "metadata": {},
   "outputs": [],
   "source": [
    "cmc  = requests.get('https://coinmarketcap.com/')\n",
    "soup = BeautifulSoup(cmc.content,'html.parser')"
   ]
  },
  {
   "cell_type": "code",
   "execution_count": 13,
   "id": "7590baea",
   "metadata": {},
   "outputs": [
    {
     "name": "stdout",
     "output_type": "stream",
     "text": [
      "<title>Cryptocurrency Prices, Charts And Market Capitalizations | CoinMarketCap</title>\n"
     ]
    }
   ],
   "source": [
    "print(soup.title)"
   ]
  },
  {
   "cell_type": "code",
   "execution_count": 90,
   "id": "e8057a6d",
   "metadata": {},
   "outputs": [],
   "source": [
    "#print(soup.prettify())"
   ]
  },
  {
   "cell_type": "code",
   "execution_count": 40,
   "id": "d72ded18",
   "metadata": {},
   "outputs": [],
   "source": [
    "data= soup.find('script',id='__NEXT_DATA__',type=\"application/json\")"
   ]
  },
  {
   "cell_type": "code",
   "execution_count": 51,
   "id": "ab6f8654",
   "metadata": {},
   "outputs": [
    {
     "data": {
      "text/plain": [
       "bs4.element.Script"
      ]
     },
     "execution_count": 51,
     "metadata": {},
     "output_type": "execute_result"
    }
   ],
   "source": [
    "type(data.contents[0])"
   ]
  },
  {
   "cell_type": "code",
   "execution_count": 45,
   "id": "69b33a60",
   "metadata": {},
   "outputs": [],
   "source": [
    "coin_data= json.loads(data.contents[0])"
   ]
  },
  {
   "cell_type": "code",
   "execution_count": 91,
   "id": "b851d5d1",
   "metadata": {},
   "outputs": [],
   "source": [
    "#coin_data\n"
   ]
  },
  {
   "cell_type": "code",
   "execution_count": 50,
   "id": "4fed9a19",
   "metadata": {},
   "outputs": [
    {
     "data": {
      "text/plain": [
       "dict"
      ]
     },
     "execution_count": 50,
     "metadata": {},
     "output_type": "execute_result"
    }
   ],
   "source": [
    "type(coin_data)"
   ]
  },
  {
   "cell_type": "markdown",
   "id": "5f70c04f",
   "metadata": {},
   "source": [
    "## OBSERVACION\n",
    "\n",
    "* Se encontro que despues de 'props' y 'initialState'\n",
    "* coin_data['props']['initialState'] era str por lo que se aplica json.loads"
   ]
  },
  {
   "cell_type": "code",
   "execution_count": 62,
   "id": "84c8dfad",
   "metadata": {},
   "outputs": [],
   "source": [
    "listings = json.loads(coin_data['props']['initialState'])['cryptocurrency']['listingLatest']['data']"
   ]
  },
  {
   "cell_type": "code",
   "execution_count": 69,
   "id": "3e05c88d",
   "metadata": {},
   "outputs": [
    {
     "data": {
      "text/plain": [
       "list"
      ]
     },
     "execution_count": 69,
     "metadata": {},
     "output_type": "execute_result"
    }
   ],
   "source": [
    "type(listings)"
   ]
  },
  {
   "cell_type": "code",
   "execution_count": 78,
   "id": "6046e46b",
   "metadata": {},
   "outputs": [],
   "source": [
    "keysArr= listings[0]['keysArr']"
   ]
  },
  {
   "cell_type": "code",
   "execution_count": 82,
   "id": "802c8f19",
   "metadata": {},
   "outputs": [
    {
     "data": {
      "text/plain": [
       "['ath',\n",
       " 'atl',\n",
       " 'circulatingSupply',\n",
       " 'cmcRank',\n",
       " 'dateAdded',\n",
       " 'high24h',\n",
       " 'id',\n",
       " 'isActive',\n",
       " 'isAudited',\n",
       " 'lastUpdated',\n",
       " 'low24h',\n",
       " 'marketPairCount',\n",
       " 'maxSupply',\n",
       " 'name',\n",
       " 'quote.USD.dominance',\n",
       " 'quote.USD.fullyDilluttedMarketCap',\n",
       " 'quote.USD.lastUpdated',\n",
       " 'quote.USD.marketCap',\n",
       " 'quote.USD.marketCapByTotalSupply',\n",
       " 'quote.USD.name',\n",
       " 'quote.USD.percentChange1h',\n",
       " 'quote.USD.percentChange24h',\n",
       " 'quote.USD.percentChange30d',\n",
       " 'quote.USD.percentChange60d',\n",
       " 'quote.USD.percentChange7d',\n",
       " 'quote.USD.percentChange90d',\n",
       " 'quote.USD.price',\n",
       " 'quote.USD.selfReportedMarketCap',\n",
       " 'quote.USD.turnover',\n",
       " 'quote.USD.volume24h',\n",
       " 'quote.USD.volume30d',\n",
       " 'quote.USD.volume7d',\n",
       " 'quote.USD.ytdPriceChangePercentage',\n",
       " 'rank',\n",
       " 'selfReportedCirculatingSupply',\n",
       " 'slug',\n",
       " 'symbol',\n",
       " 'totalSupply',\n",
       " 'tvl']"
      ]
     },
     "execution_count": 82,
     "metadata": {},
     "output_type": "execute_result"
    }
   ],
   "source": [
    "keysArr"
   ]
  },
  {
   "cell_type": "code",
   "execution_count": 83,
   "id": "565b56e5",
   "metadata": {},
   "outputs": [
    {
     "data": {
      "text/plain": [
       "6"
      ]
     },
     "execution_count": 83,
     "metadata": {},
     "output_type": "execute_result"
    }
   ],
   "source": [
    "keysArr.index('id')"
   ]
  },
  {
   "cell_type": "code",
   "execution_count": 84,
   "id": "6cbfe692",
   "metadata": {},
   "outputs": [
    {
     "data": {
      "text/plain": [
       "35"
      ]
     },
     "execution_count": 84,
     "metadata": {},
     "output_type": "execute_result"
    }
   ],
   "source": [
    "keysArr.index('slug')"
   ]
  },
  {
   "cell_type": "code",
   "execution_count": 88,
   "id": "2b05e8a7",
   "metadata": {},
   "outputs": [
    {
     "name": "stdout",
     "output_type": "stream",
     "text": [
      "1 bitcoin\n",
      "#-----------------------------------------#\n",
      "1027 ethereum\n",
      "#-----------------------------------------#\n",
      "825 tether\n",
      "#-----------------------------------------#\n",
      "1839 bnb\n",
      "#-----------------------------------------#\n",
      "52 xrp\n",
      "#-----------------------------------------#\n",
      "3408 usd-coin\n",
      "#-----------------------------------------#\n",
      "74 dogecoin\n",
      "#-----------------------------------------#\n",
      "2010 cardano\n",
      "#-----------------------------------------#\n",
      "5426 solana\n",
      "#-----------------------------------------#\n",
      "1958 tron\n",
      "#-----------------------------------------#\n",
      "2 litecoin\n",
      "#-----------------------------------------#\n",
      "3890 polygon\n",
      "#-----------------------------------------#\n",
      "6636 polkadot-new\n",
      "#-----------------------------------------#\n",
      "5994 shiba-inu\n",
      "#-----------------------------------------#\n",
      "3717 wrapped-bitcoin\n",
      "#-----------------------------------------#\n",
      "4943 multi-collateral-dai\n",
      "#-----------------------------------------#\n",
      "1831 bitcoin-cash\n",
      "#-----------------------------------------#\n",
      "5805 avalanche\n",
      "#-----------------------------------------#\n",
      "11419 toncoin\n",
      "#-----------------------------------------#\n",
      "1975 chainlink\n",
      "#-----------------------------------------#\n",
      "512 stellar\n",
      "#-----------------------------------------#\n",
      "3957 unus-sed-leo\n",
      "#-----------------------------------------#\n",
      "7083 uniswap\n",
      "#-----------------------------------------#\n",
      "4687 binance-usd\n",
      "#-----------------------------------------#\n",
      "3794 cosmos\n",
      "#-----------------------------------------#\n",
      "2563 trueusd\n",
      "#-----------------------------------------#\n",
      "328 monero\n",
      "#-----------------------------------------#\n",
      "1321 ethereum-classic\n",
      "#-----------------------------------------#\n",
      "3897 okb\n",
      "#-----------------------------------------#\n",
      "2280 filecoin\n",
      "#-----------------------------------------#\n",
      "8916 internet-computer\n",
      "#-----------------------------------------#\n",
      "4642 hedera\n",
      "#-----------------------------------------#\n",
      "27075 mantle\n",
      "#-----------------------------------------#\n",
      "8000 lido-dao\n",
      "#-----------------------------------------#\n",
      "21794 aptos\n",
      "#-----------------------------------------#\n",
      "3635 cronos\n",
      "#-----------------------------------------#\n",
      "11841 arbitrum\n",
      "#-----------------------------------------#\n",
      "3077 vechain\n",
      "#-----------------------------------------#\n",
      "1518 maker\n",
      "#-----------------------------------------#\n",
      "6535 near-protocol\n",
      "#-----------------------------------------#\n",
      "3155 quant\n",
      "#-----------------------------------------#\n",
      "11840 optimism-ethereum\n",
      "#-----------------------------------------#\n",
      "2634 xdc-network\n",
      "#-----------------------------------------#\n",
      "6719 the-graph\n",
      "#-----------------------------------------#\n",
      "7278 aave\n",
      "#-----------------------------------------#\n",
      "4847 stacks\n",
      "#-----------------------------------------#\n",
      "4030 algorand\n",
      "#-----------------------------------------#\n",
      "6783 axie-infinity\n",
      "#-----------------------------------------#\n",
      "10603 immutable-x\n",
      "#-----------------------------------------#\n",
      "6892 multiversx-egld\n",
      "#-----------------------------------------#\n",
      "1765 eos\n",
      "#-----------------------------------------#\n",
      "6210 the-sandbox\n",
      "#-----------------------------------------#\n",
      "2011 tezos\n",
      "#-----------------------------------------#\n",
      "2416 theta-network\n",
      "#-----------------------------------------#\n",
      "19891 usdd\n",
      "#-----------------------------------------#\n",
      "1966 decentraland\n",
      "#-----------------------------------------#\n",
      "3602 bitcoin-sv\n",
      "#-----------------------------------------#\n",
      "7226 injective\n",
      "#-----------------------------------------#\n",
      "18876 apecoin-ape\n",
      "#-----------------------------------------#\n",
      "3513 fantom\n",
      "#-----------------------------------------#\n",
      "5690 render\n",
      "#-----------------------------------------#\n",
      "2586 synthetix\n",
      "#-----------------------------------------#\n",
      "1376 neo\n",
      "#-----------------------------------------#\n",
      "4558 flow\n",
      "#-----------------------------------------#\n",
      "4846 kava\n",
      "#-----------------------------------------#\n",
      "7334 conflux-network\n",
      "#-----------------------------------------#\n",
      "10791 ecash\n",
      "#-----------------------------------------#\n",
      "2943 rocket-pool\n",
      "#-----------------------------------------#\n",
      "4066 chiliz\n",
      "#-----------------------------------------#\n",
      "2087 kucoin-token\n",
      "#-----------------------------------------#\n",
      "3330 paxos-standard\n",
      "#-----------------------------------------#\n",
      "7080 gala\n",
      "#-----------------------------------------#\n",
      "6538 curve-dao-token\n",
      "#-----------------------------------------#\n",
      "4256 klaytn\n",
      "#-----------------------------------------#\n",
      "1437 zcash\n",
      "#-----------------------------------------#\n",
      "4705 pax-gold\n",
      "#-----------------------------------------#\n",
      "5176 tether-gold\n",
      "#-----------------------------------------#\n",
      "24478 pepe\n",
      "#-----------------------------------------#\n",
      "1720 iota\n",
      "#-----------------------------------------#\n",
      "5692 compound\n",
      "#-----------------------------------------#\n",
      "4172 terra-luna\n",
      "#-----------------------------------------#\n",
      "16086 bittorrent-new\n",
      "#-----------------------------------------#\n",
      "11857 gmx\n",
      "#-----------------------------------------#\n",
      "2502 huobi-token\n",
      "#-----------------------------------------#\n",
      "20947 sui\n",
      "#-----------------------------------------#\n",
      "6953 frax-share\n",
      "#-----------------------------------------#\n",
      "5899 casper\n",
      "#-----------------------------------------#\n",
      "8646 mina\n",
      "#-----------------------------------------#\n",
      "4269 gatetoken\n",
      "#-----------------------------------------#\n",
      "5964 trust-wallet-token\n",
      "#-----------------------------------------#\n",
      "11865 bone-shibaswap\n",
      "#-----------------------------------------#\n",
      "131 dash\n",
      "#-----------------------------------------#\n",
      "2694 nexo\n",
      "#-----------------------------------------#\n",
      "3306 gemini-dollar\n",
      "#-----------------------------------------#\n",
      "5632 arweave\n",
      "#-----------------------------------------#\n",
      "7501 wootrade\n",
      "#-----------------------------------------#\n",
      "2469 zilliqa\n",
      "#-----------------------------------------#\n",
      "8104 1inch\n",
      "#-----------------------------------------#\n",
      "7186 pancakeswap\n",
      "#-----------------------------------------#\n",
      "4157 thorchain\n",
      "#-----------------------------------------#\n"
     ]
    }
   ],
   "source": [
    "coins= {}\n",
    "for i in listings[1:]:\n",
    "    print(i[keysArr.index('id')],i[keysArr.index('slug')])\n",
    "    coins[str(i[keysArr.index('id')])] = i[keysArr.index('slug')]\n",
    "    print(\"#-----------------------------------------#\")"
   ]
  },
  {
   "cell_type": "code",
   "execution_count": 89,
   "id": "ff15e8d0",
   "metadata": {},
   "outputs": [
    {
     "data": {
      "text/plain": [
       "{'1': 'bitcoin',\n",
       " '1027': 'ethereum',\n",
       " '825': 'tether',\n",
       " '1839': 'bnb',\n",
       " '52': 'xrp',\n",
       " '3408': 'usd-coin',\n",
       " '74': 'dogecoin',\n",
       " '2010': 'cardano',\n",
       " '5426': 'solana',\n",
       " '1958': 'tron',\n",
       " '2': 'litecoin',\n",
       " '3890': 'polygon',\n",
       " '6636': 'polkadot-new',\n",
       " '5994': 'shiba-inu',\n",
       " '3717': 'wrapped-bitcoin',\n",
       " '4943': 'multi-collateral-dai',\n",
       " '1831': 'bitcoin-cash',\n",
       " '5805': 'avalanche',\n",
       " '11419': 'toncoin',\n",
       " '1975': 'chainlink',\n",
       " '512': 'stellar',\n",
       " '3957': 'unus-sed-leo',\n",
       " '7083': 'uniswap',\n",
       " '4687': 'binance-usd',\n",
       " '3794': 'cosmos',\n",
       " '2563': 'trueusd',\n",
       " '328': 'monero',\n",
       " '1321': 'ethereum-classic',\n",
       " '3897': 'okb',\n",
       " '2280': 'filecoin',\n",
       " '8916': 'internet-computer',\n",
       " '4642': 'hedera',\n",
       " '27075': 'mantle',\n",
       " '8000': 'lido-dao',\n",
       " '21794': 'aptos',\n",
       " '3635': 'cronos',\n",
       " '11841': 'arbitrum',\n",
       " '3077': 'vechain',\n",
       " '1518': 'maker',\n",
       " '6535': 'near-protocol',\n",
       " '3155': 'quant',\n",
       " '11840': 'optimism-ethereum',\n",
       " '2634': 'xdc-network',\n",
       " '6719': 'the-graph',\n",
       " '7278': 'aave',\n",
       " '4847': 'stacks',\n",
       " '4030': 'algorand',\n",
       " '6783': 'axie-infinity',\n",
       " '10603': 'immutable-x',\n",
       " '6892': 'multiversx-egld',\n",
       " '1765': 'eos',\n",
       " '6210': 'the-sandbox',\n",
       " '2011': 'tezos',\n",
       " '2416': 'theta-network',\n",
       " '19891': 'usdd',\n",
       " '1966': 'decentraland',\n",
       " '3602': 'bitcoin-sv',\n",
       " '7226': 'injective',\n",
       " '18876': 'apecoin-ape',\n",
       " '3513': 'fantom',\n",
       " '5690': 'render',\n",
       " '2586': 'synthetix',\n",
       " '1376': 'neo',\n",
       " '4558': 'flow',\n",
       " '4846': 'kava',\n",
       " '7334': 'conflux-network',\n",
       " '10791': 'ecash',\n",
       " '2943': 'rocket-pool',\n",
       " '4066': 'chiliz',\n",
       " '2087': 'kucoin-token',\n",
       " '3330': 'paxos-standard',\n",
       " '7080': 'gala',\n",
       " '6538': 'curve-dao-token',\n",
       " '4256': 'klaytn',\n",
       " '1437': 'zcash',\n",
       " '4705': 'pax-gold',\n",
       " '5176': 'tether-gold',\n",
       " '24478': 'pepe',\n",
       " '1720': 'iota',\n",
       " '5692': 'compound',\n",
       " '4172': 'terra-luna',\n",
       " '16086': 'bittorrent-new',\n",
       " '11857': 'gmx',\n",
       " '2502': 'huobi-token',\n",
       " '20947': 'sui',\n",
       " '6953': 'frax-share',\n",
       " '5899': 'casper',\n",
       " '8646': 'mina',\n",
       " '4269': 'gatetoken',\n",
       " '5964': 'trust-wallet-token',\n",
       " '11865': 'bone-shibaswap',\n",
       " '131': 'dash',\n",
       " '2694': 'nexo',\n",
       " '3306': 'gemini-dollar',\n",
       " '5632': 'arweave',\n",
       " '7501': 'wootrade',\n",
       " '2469': 'zilliqa',\n",
       " '8104': '1inch',\n",
       " '7186': 'pancakeswap',\n",
       " '4157': 'thorchain'}"
      ]
     },
     "execution_count": 89,
     "metadata": {},
     "output_type": "execute_result"
    }
   ],
   "source": [
    "coins"
   ]
  },
  {
   "cell_type": "code",
   "execution_count": null,
   "id": "96272b5b",
   "metadata": {},
   "outputs": [],
   "source": []
  }
 ],
 "metadata": {
  "kernelspec": {
   "display_name": "Python 3 (ipykernel)",
   "language": "python",
   "name": "python3"
  },
  "language_info": {
   "codemirror_mode": {
    "name": "ipython",
    "version": 3
   },
   "file_extension": ".py",
   "mimetype": "text/x-python",
   "name": "python",
   "nbconvert_exporter": "python",
   "pygments_lexer": "ipython3",
   "version": "3.11.4"
  }
 },
 "nbformat": 4,
 "nbformat_minor": 5
}
